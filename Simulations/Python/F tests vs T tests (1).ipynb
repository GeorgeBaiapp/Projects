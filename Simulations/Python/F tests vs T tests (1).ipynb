{
 "cells": [
  {
   "cell_type": "code",
   "execution_count": 1,
   "id": "d323eaef",
   "metadata": {},
   "outputs": [
    {
     "data": {
      "text/plain": [
       "'\\nYou have a large data set of 𝑀 variables that you think are potential candidates for a\\npredictive model for an outcome. Suppose you think that only a small number of these\\ncovariates are required to produce a reasonable prediction, so you devise a “regression\\nstrategy” in which you try all possible combinations of two variables. \\n\\na) Suppose each of your 𝑀 = 5 covariates are realizations from a DGP where all of them are\\nmutually uncorrelated and none of them are correlated with your outcome of interest. What\\nis the probability that an 𝐹-test will in fact produce at least one statistically significant\\nmodel out of all those tested?\\n'"
      ]
     },
     "execution_count": 1,
     "metadata": {},
     "output_type": "execute_result"
    }
   ],
   "source": [
    "import numpy as np\n",
    "import statsmodels.api as sm\n",
    "import statsmodels.formula.api as smf\n",
    "import pandas as pd\n",
    "\n",
    "'''\n",
    "You have a large data set of 𝑀 variables that you think are potential candidates for a\n",
    "predictive model for an outcome. Suppose you think that only a small number of these\n",
    "covariates are required to produce a reasonable prediction, so you devise a “regression\n",
    "strategy” in which you try all possible combinations of two variables. \n",
    "\n",
    "a) Suppose each of your 𝑀 = 5 covariates are realizations from a DGP where all of them are\n",
    "mutually uncorrelated and none of them are correlated with your outcome of interest. What\n",
    "is the probability that an 𝐹-test will in fact produce at least one statistically significant\n",
    "model out of all those tested?\n",
    "'''"
   ]
  },
  {
   "cell_type": "code",
   "execution_count": 11,
   "id": "5ddd6c33",
   "metadata": {},
   "outputs": [
    {
     "name": "stdout",
     "output_type": "stream",
     "text": [
      "0.215\n"
     ]
    }
   ],
   "source": [
    "# This answers the question for a uniform random number distribution and a normal random number distribution:\n",
    "# It takes 1000 simulations of this process\n",
    "# My laptop isn't powerful enough to run this simulation with more, but theoretically with a better computer, this should work.\n",
    "# Or perhaps with more efficient code haha. \n",
    "# It seems simple enough to just alter the ols code so that the model only contains the minimum required information\n",
    "# for an f test, though I am uncertain about this and will need to check.\n",
    "\n",
    "# It is approximately 0.234 for n = 10 random numbers generated for the y and x{i} arrays w/ a random uniform distribution that\n",
    "# ranges from 0 to 1\n",
    "# It is approximately 0.215 for n = 100 random numbers generated for the y and x{i} arrays w/ a random uniform distribution that\n",
    "# ranges from 0 to 1\n",
    "\n",
    "# It is approximately 0.215 for n = 10 random numbers generated for the y and x{i} arrays w/ a random normal distribution with\n",
    "# mean 0 and variance 1\n",
    "# It is approximately 0.187 for n = 100 random numbers generated for the y and x{i} arrays w/ a random normal distribution with\n",
    "# mean 0 and variance 1\n",
    "\n",
    "# Obviously, this is very crude simulation results, and I need to improve this one day.\n",
    "# Though actually, I do find these results weird and will need to investigate them further.\n",
    "\n",
    "\n",
    "def uniform_simulation():\n",
    "    n = 100\n",
    "    #'''\n",
    "    y = np.random.rand(n)\n",
    "\n",
    "    x1 = np.random.rand(n)\n",
    "    x2 = np.random.rand(n)\n",
    "    x3 = np.random.rand(n)\n",
    "    x4 = np.random.rand(n)\n",
    "    x5 = np.random.rand(n)\n",
    "    #'''\n",
    "    '''\n",
    "    y = np.random.normal(0, 1, n)\n",
    "\n",
    "    x1 = np.random.normal(0, 1, n)\n",
    "    x2 = np.random.normal(0, 1, n)\n",
    "    x3 = np.random.normal(0, 1, n)\n",
    "    x4 = np.random.normal(0, 1, n)\n",
    "    x5 = np.random.normal(0, 1, n)\n",
    "    '''\n",
    "    \n",
    "    # This allows us to access a particular variable for the data\n",
    "    mapping = {'x1':x1, 'x2':x2, 'x3':x3, 'x4':x4, 'x5':x5}\n",
    "\n",
    "    df = pd.DataFrame()\n",
    "\n",
    "    for i in range(1, 6):\n",
    "        df['x{}'.format(i)] = mapping['x{}'.format(i)]\n",
    "    \n",
    "    # This goes through all possible combinations of two variables and tests which reach statistical significance\n",
    "    for i in range(1, 6):\n",
    "        for j in range(1 + i, 6):\n",
    "            formula = \"y ~ x{} + x{}\".format(i, j)\n",
    "            model = smf.ols(formula=formula, data=df).fit()\n",
    "\n",
    "            hypotheses = '(x{} = 0), (x{} = 0)'.format(i, j)\n",
    "            f_test = model.f_test(hypotheses)\n",
    "            \n",
    "            if f_test.pvalue < 0.05:\n",
    "                return 1\n",
    "    return 0\n",
    "\n",
    "# We run this simulation 1000 times and see what proportion is significant\n",
    "counter = 0\n",
    "for i in range(1000):\n",
    "    counter += uniform_simulation()\n",
    "\n",
    "print(counter/1000)\n"
   ]
  },
  {
   "cell_type": "code",
   "execution_count": null,
   "id": "b4080094",
   "metadata": {
    "scrolled": true
   },
   "outputs": [],
   "source": []
  },
  {
   "cell_type": "code",
   "execution_count": null,
   "id": "a3678660",
   "metadata": {},
   "outputs": [],
   "source": []
  }
 ],
 "metadata": {
  "kernelspec": {
   "display_name": "Python 3",
   "language": "python",
   "name": "python3"
  },
  "language_info": {
   "codemirror_mode": {
    "name": "ipython",
    "version": 3
   },
   "file_extension": ".py",
   "mimetype": "text/x-python",
   "name": "python",
   "nbconvert_exporter": "python",
   "pygments_lexer": "ipython3",
   "version": "3.8.8"
  }
 },
 "nbformat": 4,
 "nbformat_minor": 5
}
